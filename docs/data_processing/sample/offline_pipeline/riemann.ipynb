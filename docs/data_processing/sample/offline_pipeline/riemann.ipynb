{
 "cells": [
  {
   "cell_type": "code",
   "execution_count": 18,
   "metadata": {
    "collapsed": true,
    "pycharm": {
     "name": "#%%\n"
    }
   },
   "outputs": [],
   "source": [
    "from time import time\n",
    "import numpy as np\n",
    "import pandas as pd\n",
    "import scipy\n",
    "from scipy import signal\n",
    "from scipy.fft import fft, fftfreq\n",
    "import matplotlib.pyplot as plt\n",
    "import seaborn as sns\n",
    "import pyriemann\n",
    "from pyriemann.classification import MDM\n",
    "from pyriemann.utils.covariance import covariances\n",
    "import pickle\n",
    "from sklearn.model_selection import LeaveOneOut,cross_val_predict\n",
    "import warnings\n",
    "warnings.filterwarnings(\"ignore\")"
   ]
  },
  {
   "cell_type": "code",
   "execution_count": 19,
   "outputs": [],
   "source": [
    "class Processing:\n",
    "\n",
    "    def __int__(self):\n",
    "        return self\n",
    "\n",
    "    def extendSignal(self,sig, fs,target_freqs, type):\n",
    "        \"\"\"Applies a filter bank and extend signal\n",
    "        Args:\n",
    "            signal: EEG signal with the shape: (N_chan, N_sample)\n",
    "            target_freqs: list of target frequencies\n",
    "            fs: sampling frequency\n",
    "            type: type of filterbank\n",
    "        \"\"\"\n",
    "\n",
    "        frequencies = list()\n",
    "        for n,val in enumerate(target_freqs):\n",
    "            values = [target_freqs[n]-0.5, target_freqs[n]+0.5]\n",
    "            frequencies.append(values)\n",
    "\n",
    "        num_channels = sig.shape[0]\n",
    "        N = 4\n",
    "        ex_sig = np.empty((len(frequencies), sig.shape[0], sig.shape[1]))\n",
    "        for i, freq in enumerate(frequencies):\n",
    "            y = np.zeros(sig.shape)\n",
    "            for chan in range(num_channels):\n",
    "                b, a = signal.butter(N, [freq[0] / (fs/2), freq[1] / (fs/2)], type)\n",
    "                y[chan,:] = signal.filtfilt(b, a, sig[chan])\n",
    "            np.copyto(ex_sig[i], y)\n",
    "\n",
    "        n_freqs, n_channels, n_times = ex_sig.shape\n",
    "        ex_sig = ex_sig.reshape((n_freqs*n_channels, n_times))\n",
    "        return ex_sig\n",
    "\n",
    "\n",
    "    def extract_epochs(self,sig, t_min, t_max, fs):\n",
    "        \"\"\" Extracts epochs from signal\n",
    "    Args:\n",
    "        sig: EEG signal with the shape: (N_chan, N_sample)\n",
    "        sig_times: Timestamp of the EEG samples with the shape (N_sample)\n",
    "        event_times: Event marker times\n",
    "        t_min: Starting time of the epoch relative to the event time\n",
    "        t_max: End time of the epoch relative to the event time\n",
    "        fs: Sampling rate\n",
    "    Returns: a list of epochs and the time signature of each epoch\n",
    "    \"\"\"\n",
    "        offset_st = int(t_min * fs)\n",
    "        offset_end = int(t_max * fs)\n",
    "        len_epoch = offset_end - offset_st\n",
    "        n_epochs = sig.shape[1] // len_epoch\n",
    "        epoch_list = []\n",
    "        for i in range(n_epochs):\n",
    "            epoch_list.append(sig[:, i * len_epoch: (i+1) * len_epoch])\n",
    "\n",
    "        return np.array(epoch_list)\n",
    "\n",
    "\n",
    "class Classification:\n",
    "\n",
    "    def __init__(self):\n",
    "        return\n",
    "\n",
    "    def riemann_mdm(self,X,y):\n",
    "        \"\"\" Make a prediction using mdm classification\n",
    "        Args:\n",
    "            X: EEG data\n",
    "            y: labels\n",
    "        Returns:\n",
    "            actual labels and predictions\n",
    "        \"\"\"\n",
    "\n",
    "        actual_classes = np.empty([0], dtype=int)\n",
    "        predicted_classes = np.empty([0], dtype=int)\n",
    "\n",
    "        cov = covariances(X, estimator='lwf')\n",
    "\n",
    "        mdm = MDM()\n",
    "        cv = LeaveOneOut()\n",
    "\n",
    "        actual_classes = np.append(actual_classes, y)\n",
    "        predicted_classes = np.append(predicted_classes,cross_val_predict(mdm, cov, y, cv=cv))\n",
    "\n",
    "        return actual_classes,predicted_classes\n",
    "\n",
    "\n",
    "class Plotly:\n",
    "\n",
    "    def __int__(self):\n",
    "        return self\n",
    "\n",
    "    def create_confusion_matrix(self, predictions, groundtruths, gt_dict, plot=True, title = None):\n",
    "        \"\"\"\n",
    "            Create confusion matrix from predictions and ground truths\n",
    "            Args:\n",
    "                predictions: array containing predictions with shape (# epochs)\n",
    "                groundtruths: array containing ground truth labels with shape (# epochs)\n",
    "                gt_dict: dictionary containing {ground truth label: corresponding frequency}\n",
    "                plot: boolean, set to True to plot confusion matrix as heatmap\n",
    "            Returns: array containing confusion matrix with shape (# frequencies x # frequencies)\n",
    "        \"\"\"\n",
    "        n_freq = len(set(gt_dict.values()))\n",
    "        confusion_matrix = np.zeros((n_freq,n_freq))\n",
    "        frequencies = list(set(gt_dict.values()))\n",
    "        groundtruth = groundtruths.copy()\n",
    "        for key, value in gt_dict.items():\n",
    "            groundtruth[groundtruth == key] = value\n",
    "        for i in range(len(predictions)):\n",
    "            x = frequencies.index(predictions[i])\n",
    "            y = frequencies.index(groundtruths[i])\n",
    "            confusion_matrix[y,x] += 1\n",
    "\n",
    "        acc = np.trace(confusion_matrix) / float(np.sum(confusion_matrix))\n",
    "\n",
    "        confidence = 0.95  # Change to your desired confidence level\n",
    "        z_value = scipy.stats.norm.ppf((1 + confidence) / 2.0)\n",
    "\n",
    "        ci_length = z_value * np.sqrt((acc * (1 - acc)) / actual_classes.shape[0])\n",
    "\n",
    "        ci_lower = acc - ci_length\n",
    "        ci_upper = acc + ci_length\n",
    "\n",
    "        if plot == True:\n",
    "            cm_df = pd.DataFrame(confusion_matrix, index = frequencies, columns = frequencies)\n",
    "            ax = sns.heatmap(cm_df/sum(confusion_matrix[0]), annot=True, square=True, cmap = 'Blues', fmt= '.2f')\n",
    "            ax.tick_params(length=5, labelsize=12)\n",
    "            if title is not None:\n",
    "                plt.title(title)\n",
    "            plt.ylabel(\"ground truth\", size=15, labelpad=10)\n",
    "            plt.xlabel(\"prediction\", size=15, labelpad=10)\n",
    "            plt.tight_layout()\n",
    "            plt.show()\n",
    "            print('Accuracy='+str('%.3f' % acc) + '+-'+str('%.3f' % ci_length)+'\\n'+'95% Confidence Interval: '+'('+str('%.3f' % ci_lower)+str(' ')+str('%.3f' % ci_upper)+')')\n",
    "\n",
    "        return confusion_matrix, acc, ci_lower,ci_upper\n"
   ],
   "metadata": {
    "collapsed": false,
    "pycharm": {
     "name": "#%%\n"
    }
   }
  },
  {
   "cell_type": "markdown",
   "source": [
    "# Mentalab"
   ],
   "metadata": {
    "collapsed": false,
    "pycharm": {
     "name": "#%% md\n"
    }
   }
  },
  {
   "cell_type": "code",
   "execution_count": 20,
   "outputs": [],
   "source": [
    "path = 'sample_data/'\n",
    "ch_names = [f'ch{n:01}' for n in [4,6,7]]\n",
    "\n",
    "fs = 250\n",
    "t_min = 0\n",
    "t_max = 4\n",
    "gt_dict = {\"scroll up\":12, 'comment':10, 'like':8}\n",
    "target_freqs = list(gt_dict.values())\n",
    "freq_band = 0.1\n",
    "n_class = len(list(gt_dict.values()))\n",
    "\n",
    "s2 = [\n",
    "    'Nils_8Hz_ExG.csv',\n",
    "    'Nils_10hz_ExG.csv',\n",
    "    'Nils_12Hz_ExG.csv',\n",
    "    # 'Nils_nothing_ExG.csv',\n",
    "    # 'Nils_14Hz_ExG.csv'\n",
    "]\n",
    "\n",
    "process_sig = Processing()"
   ],
   "metadata": {
    "collapsed": false,
    "pycharm": {
     "name": "#%%\n"
    }
   }
  },
  {
   "cell_type": "code",
   "execution_count": 21,
   "outputs": [],
   "source": [
    "dfs = list()\n",
    "gt = []\n",
    "f_epochs = []\n",
    "for f in s2:\n",
    "    df = pd.read_csv(path + f, delimiter=',')\n",
    "    sig = df[ch_names].to_numpy().T\n",
    "\n",
    "    extended_sig = process_sig.extendSignal(sig, fs, target_freqs, 'bandpass')\n",
    "    single_epoch = process_sig.extract_epochs(extended_sig,t_min, t_max, fs)\n",
    "    n_epoch,_,_ = np.array(single_epoch).shape\n",
    "\n",
    "    for hz in list(gt_dict.values()):\n",
    "        if str(hz) in f:\n",
    "            gt.extend([hz]*n_epoch)\n",
    "\n",
    "    f_epochs.append(single_epoch)\n",
    "\n",
    "n_element,n_epoch,n_extend,n_sample = np.array(f_epochs).shape\n",
    "epochs = np.array(f_epochs).reshape(n_element*n_epoch,n_extend,n_sample)\n",
    "groundtruth = np.array(gt)"
   ],
   "metadata": {
    "collapsed": false,
    "pycharm": {
     "name": "#%%\n"
    }
   }
  },
  {
   "cell_type": "code",
   "execution_count": 22,
   "outputs": [],
   "source": [
    "# MDM classification\n",
    "classify = Classification()\n",
    "actual_classes, predicted_classes = classify.riemann_mdm(epochs,groundtruth)"
   ],
   "metadata": {
    "collapsed": false,
    "pycharm": {
     "name": "#%%\n"
    }
   }
  },
  {
   "cell_type": "code",
   "execution_count": 23,
   "outputs": [
    {
     "data": {
      "text/plain": "<Figure size 640x480 with 2 Axes>",
      "image/png": "[encoded data removed]"
     },
     "metadata": {},
     "output_type": "display_data"
    },
    {
     "name": "stdout",
     "output_type": "stream",
     "text": [
      "Accuracy=0.644+-0.140\n",
      "95% Confidence Interval: (0.505 0.784)\n"
     ]
    },
    {
     "data": {
      "text/plain": "(array([[10.,  2.,  3.],\n        [ 6.,  7.,  2.],\n        [ 2.,  1., 12.]]),\n 0.6444444444444445,\n 0.5045861233133887,\n 0.7843027655755003)"
     },
     "execution_count": 23,
     "metadata": {},
     "output_type": "execute_result"
    }
   ],
   "source": [
    "Plotly().create_confusion_matrix(predicted_classes, actual_classes,gt_dict, plot=True, title = 'Riemannian Geometry, 4s epochs')"
   ],
   "metadata": {
    "collapsed": false,
    "pycharm": {
     "name": "#%%\n"
    }
   }
  },
  {
   "cell_type": "code",
   "execution_count": 23,
   "outputs": [],
   "source": [],
   "metadata": {
    "collapsed": false,
    "pycharm": {
     "name": "#%%\n"
    }
   }
  }
 ],
 "metadata": {
  "kernelspec": {
   "display_name": "Python 3",
   "language": "python",
   "name": "python3"
  },
  "language_info": {
   "codemirror_mode": {
    "name": "ipython",
    "version": 2
   },
   "file_extension": ".py",
   "mimetype": "text/x-python",
   "name": "python",
   "nbconvert_exporter": "python",
   "pygments_lexer": "ipython2",
   "version": "2.7.6"
  }
 },
 "nbformat": 4,
 "nbformat_minor": 0
}